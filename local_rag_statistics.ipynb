{
  "nbformat": 4,
  "nbformat_minor": 0,
  "metadata": {
    "colab": {
      "provenance": [],
      "mount_file_id": "15wvqkBhCajDJzrQcNlwC8JcwS3MNHu2D",
      "authorship_tag": "ABX9TyPMiV02rCgjc/woB49wAfeg",
      "include_colab_link": true
    },
    "kernelspec": {
      "name": "python3",
      "display_name": "Python 3"
    },
    "language_info": {
      "name": "python"
    }
  },
  "cells": [
    {
      "cell_type": "markdown",
      "metadata": {
        "id": "view-in-github",
        "colab_type": "text"
      },
      "source": [
        "<a href=\"https://colab.research.google.com/github/linhdangCA/local_rag_statistics/blob/main/local_rag_statistics.ipynb\" target=\"_parent\"><img src=\"https://colab.research.google.com/assets/colab-badge.svg\" alt=\"Open In Colab\"/></a>"
      ]
    },
    {
      "cell_type": "code",
      "execution_count": null,
      "metadata": {
        "id": "BC0hTwxmg3_k"
      },
      "outputs": [],
      "source": [
        "# Perform Google Colab installs (if running in Google Colab)\n",
        "import os\n",
        "\n",
        "if \"COLAB_GPU\" in os.environ:\n",
        "    print(\"[INFO] Running in Google Colab, installing requirements.\")\n",
        "    !pip install -U torch # requires torch 2.1.1+ (for efficient sdpa implementation)\n",
        "    !pip install PyMuPDF # for reading PDFs with Python\n",
        "    !pip install tqdm # for progress bars\n",
        "    !pip install sentence-transformers # for embedding models\n",
        "    !pip install accelerate # for quantization model loading\n",
        "    !pip install bitsandbytes # for quantizing models (less storage space)\n",
        "    !pip install flash-attn --no-build-isolation # for faster attention mechanism = faster LLM inference"
      ]
    },
    {
      "cell_type": "code",
      "source": [
        "# Download PDF file\n",
        "import os\n",
        "import requests\n",
        "\n",
        "# Get PDF document\n",
        "pdf_path = \"./drive/MyDrive/Colab Notebooks/rag/A First Course in Probability and Statistics.pdf\"\n",
        "\n",
        "# Download PDF if it doesn't already exist\n",
        "if not os.path.exists(pdf_path):\n",
        "  print(\"File doesn't exist...\")\n",
        "\n",
        "  # # The URL of the PDF you want to download\n",
        "  # url = \"https://pressbooks.oer.hawaii.edu/humannutrition2/open/download?type=pdf\"\n",
        "\n",
        "  # # The local filename to save the downloaded file\n",
        "  # filename = pdf_path\n",
        "\n",
        "  # # Send a GET request to the URL\n",
        "  # response = requests.get(url)\n",
        "\n",
        "  # # Check if the request was successful\n",
        "  # if response.status_code == 200:\n",
        "  #     # Open a file in binary write mode and save the content to it\n",
        "  #     with open(filename, \"wb\") as file:\n",
        "  #         file.write(response.content)\n",
        "  #     print(f\"The file has been downloaded and saved as {filename}\")\n",
        "  # else:\n",
        "  #     print(f\"Failed to download the file. Status code: {response.status_code}\")\n",
        "else:\n",
        "  print(f\"File {pdf_path} exists.\")"
      ],
      "metadata": {
        "id": "yZcOUzmchfZ1"
      },
      "execution_count": null,
      "outputs": []
    },
    {
      "cell_type": "code",
      "source": [],
      "metadata": {
        "id": "fqxe-Xoy4AJc"
      },
      "execution_count": null,
      "outputs": []
    }
  ]
}